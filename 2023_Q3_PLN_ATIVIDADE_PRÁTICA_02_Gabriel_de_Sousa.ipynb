{
  "nbformat": 4,
  "nbformat_minor": 0,
  "metadata": {
    "colab": {
      "provenance": [],
      "collapsed_sections": [
        "D7hJlilKM485"
      ],
      "include_colab_link": true
    },
    "kernelspec": {
      "name": "python3",
      "display_name": "Python 3"
    }
  },
  "cells": [
    {
      "cell_type": "markdown",
      "metadata": {
        "id": "view-in-github",
        "colab_type": "text"
      },
      "source": [
        "<a href=\"https://colab.research.google.com/github/sdias22/PLN-A1/blob/main/2023_Q3_PLN_ATIVIDADE_PR%C3%81TICA_02_Gabriel_de_Sousa.ipynb\" target=\"_parent\"><img src=\"https://colab.research.google.com/assets/colab-badge.svg\" alt=\"Open In Colab\"/></a>"
      ]
    },
    {
      "cell_type": "markdown",
      "metadata": {
        "id": "Y6QILOdpOjwv"
      },
      "source": [
        "# **Processamento de Linguagem Natural [2023.Q3]**\n",
        "Prof. Alexandre Donizeti Alves"
      ]
    },
    {
      "cell_type": "markdown",
      "metadata": {
        "id": "8m67OOx9MX_3"
      },
      "source": [
        "### **ATIVIDADE PRÁTICA 02 [Extração e Pré-processamento de Dados + Expressões Regulares]**\n"
      ]
    },
    {
      "cell_type": "markdown",
      "metadata": {
        "id": "5Gk0nHKabBT-"
      },
      "source": [
        "A **ATIVIDADE PRÁTICA 02** deve ser feita utilizando o **Google Colab** com uma conta\n",
        "sua vinculada ao Gmail. O link do seu notebook, armazenado no Google Drive, além do link de um repositório no GitHub e os principais resultados da atividade, devem ser enviados usando o seguinte formulário:\n",
        "\n",
        "> https://forms.gle/83JggUJ1mhgWviEaA\n",
        "\n",
        "\n",
        "**IMPORTANTE**: A submissão deve ser feita até o dia 20/10 (sexta-feira) APENAS POR UM INTEGRANTE DA EQUIPE, até às 23h59. Por favor, lembre-se de dar permissão de ACESSO IRRESTRITO para o professor da disciplina de PLN."
      ]
    },
    {
      "cell_type": "markdown",
      "metadata": {
        "id": "D7hJlilKM485"
      },
      "source": [
        "### **EQUIPE**\n",
        "\n",
        "---"
      ]
    },
    {
      "cell_type": "markdown",
      "source": [
        "**POR FAVOR, PREENCHER OS INTEGRANDES DA SUA EQUIPE:**\n",
        "\n",
        "\n",
        "**Integrante 01:**\n",
        "\n",
        "**Nome:** Gabriel de Sousa Dias\n",
        "\n",
        "**RA:** 11201720272"
      ],
      "metadata": {
        "id": "tnIArN0QY-Ek"
      }
    },
    {
      "cell_type": "markdown",
      "source": [
        "### **LIVRO**\n",
        "---"
      ],
      "metadata": {
        "id": "6yExhaebs-nD"
      }
    },
    {
      "cell_type": "markdown",
      "source": [
        "`Processamento de Linguagem Natural - Conceitos, Técnicas e Aplicações em Português.`\n",
        "\n",
        ">\n",
        "\n",
        "Disponível gratuitamente em:\n",
        "  \n",
        "  > https://brasileiraspln.com/livro-pln/1a-edicao/.\n",
        "\n",
        "\n",
        "**POR FAVOR, PREENCHER OS CAPITULOS SELECIONADOS PARA A SUA EQUIPE:**\n",
        "\n",
        "`Primeiro capítulo: ` 2\n",
        "\n",
        "  > https://brasileiraspln.com/livro-pln/1a-edicao/parte2/cap2/cap2.html.\n",
        "\n",
        "\n",
        "`Segundo capítulo:` 24\n",
        "  \n",
        "  > https://brasileiraspln.com/livro-pln/1a-edicao/parte10/cap24/cap24.html.\n",
        "\n"
      ],
      "metadata": {
        "id": "DjJM_qhEZRy6"
      }
    },
    {
      "cell_type": "markdown",
      "metadata": {
        "id": "EtjgWQRzNphL"
      },
      "source": [
        "### **DESCRIÇÃO**\n",
        "---"
      ]
    },
    {
      "cell_type": "markdown",
      "source": [
        "Implementar um `notebook` no `Google Colab` para identificar ERROS em 2 (DOIS) capítulos do livro **Processamento de Linguagem Natural - Conceitos, Técnicas e Aplicações em Português**.\n",
        "\n",
        "Os capítulos devem ser selecionados na seguinte planilha:\n",
        "\n",
        "https://docs.google.com/spreadsheets/d/1ZutzQ3v1OJgsgzCvCwxXlRIQ3ChXNlHNvB63JQvYsbo/edit?usp=sharing\n",
        "\n",
        ">\n",
        "\n",
        "**IMPORTANTE:** É obrigatório usar o e-mail da UFABC.\n",
        "\n",
        ">\n",
        "\n",
        "\n",
        "**DICA:** Por favor, insira o seu nome ou da sua equipe na ordem definida na planilha. Por exemplo, se a linha correspondente ao o GRUPO 5 já foi preenchida, a próxima equipe (GRUPO 6) deverá ser informada na próxima linha da planilha.\n",
        "\n"
      ],
      "metadata": {
        "id": "fXTwkiiGs2BV"
      }
    },
    {
      "cell_type": "markdown",
      "source": [
        "### **TIPOS DE ERROS**\n",
        "---\n"
      ],
      "metadata": {
        "id": "eD_AJQhrwJQ6"
      }
    },
    {
      "cell_type": "markdown",
      "source": [
        "**IMPORTANTE**: consulta feita no ChatGPT\n",
        ">\n",
        "\n",
        "Um `programa Python` que utilize `expressões regulares` pode ajudar a identificar vários **tipos de erros** comuns em **livros**, especialmente erros de formatação e problemas relacionados à consistência do texto. Aqui estão alguns exemplos de erros comuns que podem ser identificados usando expressões regulares:\n",
        "\n",
        "* Erros de gramática e ortografia: erros de digitação, concordância verbal e nominal, uso incorreto de pontuação e outros erros gramaticais.\n",
        "\n",
        "* Problemas de formatação: você pode usar expressões regulares para encontrar erros de formatação, como espaços em excesso, tabulações inadequadas ou alinhamentos inconsistentes.\n",
        "\n",
        "* Abreviações e acrônimos: você pode usar expressões regulares para encontrar abreviações ou acrônimos que não foram definidos ou explicados anteriormente no texto.\n",
        "\n",
        "* Citações e referências: expressões regulares podem ser úteis para localizar citações ou referências que precisam de formatação especial.\n",
        "\n",
        "* OUTROS TIPOS DE ERROS: não considerem apenas os tipos de erros citados acima.\n",
        "\n",
        "\n",
        "**IMPORTANTE:** Lembre-se de que expressões regulares podem ser poderosas, mas também complexas. Dependendo da complexidade dos erros que você deseja identificar, pode ser necessário ajustar as expressões regulares de acordo com as características específicas do seu texto. Além disso, é importante ter em mente que as expressões regulares podem não ser a melhor ferramenta para todos os tipos de erros em livros, especialmente problemas mais contextuais ou semânticos, que podem exigir abordagens de PLN mais avançadas.\n",
        "\n",
        "\n",
        "\n"
      ],
      "metadata": {
        "id": "gz0DTI0KYmn6"
      }
    },
    {
      "cell_type": "markdown",
      "source": [
        "### **CRITÉRIOS DE AVALIAÇÃO**\n",
        "---\n"
      ],
      "metadata": {
        "id": "gWsBYQNtxmum"
      }
    },
    {
      "cell_type": "markdown",
      "source": [
        "A equipe que **realizar mais testes** e/ou **identificar mais erros** terá o peso diminuido na AVALIAÇÃO (Prova Escrita) em **25%** (caindo de 40 para 30). Os testes e possíveis erros devem ser contabizados de maneira separada.\n",
        "\n",
        ">\n",
        "\n",
        "Além disso, **por se tratar de um livro**, há um teste importante que deve ser feito. Lembre-se que o teste deve ser feito utilizando expressões regulares. A equipe que realizar esse teste, mesmo que o erro não ocorra nos capítulos selecionados, terá o peso diminuido na AVALIAÇÃO (Prova Escrita) em **25%** (caindo de 40 para 30).\n",
        "\n",
        "> A equipe pode considerar outros capítulos do livro para tentar identificar esse tipo de erro.\n",
        "\n",
        "**Se for a mesma equipe, o peso da avaliação será reduzido em 50% (caindo de 40 para 20)**.\n",
        "\n",
        ">\n",
        "\n",
        "**IMPORTANTE**: a diminuição no peso da AVALIAÇÃO será aplicado para todos os membros da equipe. Esse critério será aplicado apenas para uma equipe, considerando como critério de desempate a equipe que entregar primeiro a atividade no formulário.\n",
        "\n",
        "\n",
        "\n"
      ],
      "metadata": {
        "id": "5iHdx4BXYruQ"
      }
    },
    {
      "cell_type": "markdown",
      "source": [
        "### **IMPLEMENTAÇÃO**\n",
        "---"
      ],
      "metadata": {
        "id": "nw09lujGvfjc"
      }
    },
    {
      "cell_type": "code",
      "source": [
        "import requests\n",
        "from bs4 import BeautifulSoup\n",
        "import re\n",
        "\n",
        "# Faz a requisição no Capítulo 2\n",
        "response2 = requests.get('https://brasileiraspln.com/livro-pln/1a-edicao/parte2/cap2/cap2.html')\n",
        "\n",
        "if response2.status_code == 200:\n",
        "    print('Conexão Cap. 2 bem-sucedida')\n",
        "else:\n",
        "    print(\"Falha ao obter o conteúdo do Cap. 2\")\n",
        "\n",
        "# Faz a requisição no Capítulo 24\n",
        "response24 = requests.get('https://brasileiraspln.com/livro-pln/1a-edicao/parte10/cap24/cap24.html')\n",
        "\n",
        "if response24.status_code == 200:\n",
        "    print('Conexão Cap. 24 bem-sucedida')\n",
        "else:\n",
        "    print(\"Falha ao obter o conteúdo do Cap. 24\")\n",
        "\n",
        "# Cria um objeto BeautifulSoup para parsear o HTML\n",
        "soup2 = BeautifulSoup(response2.content, 'html.parser')\n",
        "\n",
        "# Cria um objeto BeautifulSoup para parsear o HTML\n",
        "soup24 = BeautifulSoup(response24.content, 'html.parser')\n",
        "\n",
        "# Encontra a seção do conteúdo do Capítulo 2\n",
        "conteudo2 = soup2.find('main', {'id': 'quarto-document-content'})\n",
        "\n",
        "# Encontra todos os parágrafos de texto dentro da seção de conteúdo do Capítulo 2\n",
        "paragrafos2 = conteudo2.find_all('p')\n",
        "\n",
        "# Encontra a seção do conteúdo do Capítulo 24\n",
        "conteudo24 = soup24.find('main', {'id': 'quarto-document-content'})\n",
        "\n",
        "# Encontra todos os parágrafos de texto dentro da seção de conteúdo do Capítulo 24\n",
        "paragrafos24 = conteudo24.find_all('p')"
      ],
      "metadata": {
        "colab": {
          "base_uri": "https://localhost:8080/"
        },
        "id": "QulIaadCatGg",
        "outputId": "40bd06ed-b58d-4ae4-d4fc-87208f77e2d0"
      },
      "execution_count": 6,
      "outputs": [
        {
          "output_type": "stream",
          "name": "stdout",
          "text": [
            "Conexão Cap. 2 bem-sucedida\n",
            "Conexão Cap. 24 bem-sucedida\n"
          ]
        }
      ]
    },
    {
      "cell_type": "code",
      "source": [
        "# Função para encontrar erros com expressões regulares e o tipo de erro encontrado\n",
        "def find_and_display_errors(texto, p, contErro):\n",
        "  error_patterns = [\n",
        "    (r'\\s{2,}', \"Espaços em branco em excesso\"),\n",
        "    (r'\\b\\w*[cçs]ao\\b', \" palavras que terminam em 'ção' ou 'são' sem acento\"),\n",
        "    (r',\\s+[^,],\\s+e\\s+[^,]+', \"Vírgula após um e\"),\n",
        "    (r'\\.{2,}', \"Encontrar pontos finais repetidos\"),\n",
        "    (r',,+', \"Encontrar múltiplas vírgulas seguidas\"),\n",
        "    (r'traqu[éèê]ia', \"Erro de acentuação na palavra traqueia\"),\n",
        "    (r'\\bmascara\\b', \"Erro de acentuação na palavra máscara\"),\n",
        "    (r'\\s+:', \"Espaço antes dos dois-pontos\"),\n",
        "    (r'\\s+,', \"Espaço antes da vírgula\"),\n",
        "    (r'multi-tarefa', \"Erro na palavra multitarefa\"),\n",
        "    (r'\\b(\\w+)\\b\\s+\\b\\1\\b', \"Palavras iguais em sequência\"),\n",
        "    (r'[^0-9,\\s]+\\,[^\\s]+', \"Sem espaço após a vírgula\"),\n",
        "    (r'h[íì]fens', \"Erro de acentuação na palavra hifens\"),\n",
        "    (r'pré[^-]definidas', \"Erro na palavra pré-definidas\"),\n",
        "    (r'espec[iì]fica', \"Erro na palavra específica\")\n",
        "  ]\n",
        "\n",
        "  # Faz a verificação dos erros, adiciona ao contador e imprimi qual o erro.\n",
        "  for pattern, description in error_patterns:\n",
        "    errors = re.findall(pattern, texto)\n",
        "    if errors:\n",
        "      for error in errors:\n",
        "        contErro = contErro + 1\n",
        "        print(f\"Erro encontrado (Padrão: {description}, Parágrafo: {p}): {error}\")\n",
        "\n",
        "  return contErro\n",
        "\n",
        "p = 0\n",
        "contErro = 0\n",
        "\n",
        "print(\"Capítulo 2\")\n",
        "for p2 in paragrafos2:\n",
        "  # Encontrar e exibir erros\n",
        "  contErro = find_and_display_errors(p2.getText(), p, contErro)\n",
        "  p = p + 1\n",
        "\n",
        "p = 0\n",
        "print(\"Capítulo 24\")\n",
        "for p24 in paragrafos24:\n",
        "  # Encontrar e exibir erros\n",
        "  contErro = find_and_display_errors(p24.getText(), p, contErro)\n",
        "  p = p + 1\n",
        "\n",
        "print(f\"\\nQuantidade de erros encontrados: {contErro}\")"
      ],
      "metadata": {
        "id": "RyUailD5vi9E",
        "colab": {
          "base_uri": "https://localhost:8080/"
        },
        "outputId": "4d096713-5264-4c91-fe12-7855b44a66aa"
      },
      "execution_count": 7,
      "outputs": [
        {
          "output_type": "stream",
          "name": "stdout",
          "text": [
            "Capítulo 2\n",
            "Erro encontrado (Padrão: Erro de acentuação na palavra traqueia, Parágrafo: 23): traquéia\n",
            "Erro encontrado (Padrão: Erro de acentuação na palavra máscara, Parágrafo: 37): mascara\n",
            "Erro encontrado (Padrão: Erro na palavra específica, Parágrafo: 46): especifica\n",
            "Erro encontrado (Padrão: Encontrar pontos finais repetidos, Parágrafo: 64): ..\n",
            "Erro encontrado (Padrão: Espaços em branco em excesso, Parágrafo: 98):   \n",
            "Erro encontrado (Padrão: Palavras iguais em sequência, Parágrafo: 111): nove\n",
            "Erro encontrado (Padrão: Palavras iguais em sequência, Parágrafo: 111): nove\n",
            "Erro encontrado (Padrão: Palavras iguais em sequência, Parágrafo: 111): nove\n",
            "Erro encontrado (Padrão: Palavras iguais em sequência, Parágrafo: 111): nove\n",
            "Erro encontrado (Padrão: Espaço antes dos dois-pontos, Parágrafo: 114):  :\n",
            "Erro encontrado (Padrão: Palavras iguais em sequência, Parágrafo: 114): S\n",
            "Erro encontrado (Padrão: Espaços em branco em excesso, Parágrafo: 120):   \n",
            "Erro encontrado (Padrão: Espaços em branco em excesso, Parágrafo: 123):   \n",
            "Erro encontrado (Padrão: Espaços em branco em excesso, Parágrafo: 126):   \n",
            "Erro encontrado (Padrão: Espaços em branco em excesso, Parágrafo: 137):   \n",
            "Erro encontrado (Padrão: Espaços em branco em excesso, Parágrafo: 140):   \n",
            "Erro encontrado (Padrão: Espaços em branco em excesso, Parágrafo: 143):   \n",
            "Capítulo 24\n",
            "Erro encontrado (Padrão: Espaço antes da vírgula, Parágrafo: 42):  ,\n",
            "\n",
            "Quantidade de erros encontrados: 18\n"
          ]
        }
      ]
    },
    {
      "cell_type": "code",
      "source": [],
      "metadata": {
        "id": "sOuutFq3nqMX"
      },
      "execution_count": null,
      "outputs": []
    }
  ]
}